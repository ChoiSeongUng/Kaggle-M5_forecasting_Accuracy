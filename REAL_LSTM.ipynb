{
 "cells": [
  {
   "cell_type": "code",
   "execution_count": 1,
   "metadata": {},
   "outputs": [
    {
     "name": "stderr",
     "output_type": "stream",
     "text": [
      "Using TensorFlow backend.\n"
     ]
    }
   ],
   "source": [
    "import numpy as np\n",
    "import datetime\n",
    "import pandas as pd\n",
    "import os\n",
    "from matplotlib import pyplot as plt\n",
    "from sklearn.preprocessing import MinMaxScaler\n",
    "from sklearn.metrics import mean_squared_error\n",
    "from tqdm import tqdm\n",
    "\n",
    "### ACF, PACF EDA ###\n",
    "from statsmodels.graphics.tsaplots import plot_acf, plot_pacf\n",
    "from statsmodels.tsa.arima_model import ARIMA\n",
    "\n",
    "\n",
    "# LSTM generator\n",
    "from keras.preprocessing.sequence import TimeseriesGenerator\n",
    "from keras.layers import Dense\n",
    "from keras.layers import LSTM\n",
    "from keras.models import Sequential"
   ]
  },
  {
   "cell_type": "code",
   "execution_count": 2,
   "metadata": {},
   "outputs": [],
   "source": [
    "# minmax scale 돌린 dataset\n",
    "store_group_minmax_scaled = pd.read_csv(os.getcwd()+'\\\\store_group_minmax.csv')\n",
    "distinct_store_names = store_group_minmax_scaled.columns[1:11]"
   ]
  },
  {
   "cell_type": "code",
   "execution_count": 28,
   "metadata": {},
   "outputs": [],
   "source": [
    "def LSTM_model(x):\n",
    "    \n",
    "    global store_group_minmax_scaled\n",
    "    global distinct_store_names\n",
    "    \n",
    "    # 어느 가게 타겟할건지\n",
    "    target_store = distinct_store_names[x]\n",
    "    \n",
    "    # scaled data 설정\n",
    "    data_scaled = store_group_minmax_scaled[target_store].ravel().reshape(-1,1)\n",
    "    \n",
    "    # train, test split\n",
    "    train_data, test_data = data_scaled[:len(data_scaled) - 56], data_scaled[len(data_scaled) - 56 : ]\n",
    "    \n",
    "    # 시계열 Generator\n",
    "    \n",
    "    n_input = 28\n",
    "    n_features= 1\n",
    "    \n",
    "    train_generator = TimeseriesGenerator(train_data, train_data, length=n_input, batch_size=1)\n",
    "    test_generator = TimeseriesGenerator(test_data, test_data, length=n_input, batch_size=1)\n",
    "    \n",
    "    # LSTM model\n",
    "    \n",
    "    model = Sequential()\n",
    "    model.add(LSTM(4, activation = 'tanh', input_shape=(n_input, 1)))\n",
    "    model.add(Dense(1))\n",
    "    model.compile(loss='mean_squared_error', optimizer='adam')\n",
    "    model.summary()\n",
    "    \n",
    "    history = model.fit_generator(train_generator, epochs=32).history\n",
    "    yhat = model.predict(test_generator)\n",
    "    \n",
    "    validation_data = data_scaled[len(data_scaled) - 28 : ]\n",
    "    \n",
    "    # plot 그리기 \n",
    "    \n",
    "    plt.plot(range(len(yhat.ravel())), predicted.ravel(), c='r', label = \"predicted data\")\n",
    "    plt.plot(range(len(yhat.ravel())), validation.ravel(), label = 'real data')\n",
    "    plt.legend()\n",
    "    \n",
    "    # MSE\n",
    "    \n",
    "    return mean_squared_error(validation, predicted)"
   ]
  },
  {
   "cell_type": "code",
   "execution_count": null,
   "metadata": {},
   "outputs": [],
   "source": []
  }
 ],
 "metadata": {
  "kernelspec": {
   "display_name": "Python 3",
   "language": "python",
   "name": "python3"
  },
  "language_info": {
   "codemirror_mode": {
    "name": "ipython",
    "version": 3
   },
   "file_extension": ".py",
   "mimetype": "text/x-python",
   "name": "python",
   "nbconvert_exporter": "python",
   "pygments_lexer": "ipython3",
   "version": "3.7.3"
  }
 },
 "nbformat": 4,
 "nbformat_minor": 2
}
